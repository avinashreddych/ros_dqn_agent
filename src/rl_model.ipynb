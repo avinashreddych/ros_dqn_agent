{
 "cells": [
  {
   "cell_type": "code",
   "execution_count": 1,
   "metadata": {},
   "outputs": [],
   "source": [
    "batch_size = 12\n",
    "import torch\n",
    "state_size  = 32\n",
    "action_size = 5\n",
    "import random\n",
    "import numpy as np\n",
    "from collections import deque,namedtuple\n",
    "from environment import Env\n",
    "import rospy\n",
    "from sensor_msgs.msg import LaserScan\n",
    "rospy.init_node(\"scan_test\")\n",
    "action_size = 5\n",
    "\n",
    "env = Env(action_size)\n",
    "\n",
    "Transition = namedtuple('Transition',\n",
    "                        ('state', 'action', 'next_state', 'reward', 'done'))\n",
    "\n",
    "class ReplayMemory(object):\n",
    "\n",
    "    def __init__(self, capacity):\n",
    "        self.memory = deque([], maxlen=capacity)\n",
    "\n",
    "    def push(self, *args):\n",
    "        \"\"\"Save a transition\"\"\"\n",
    "        self.memory.append(Transition(*args))\n",
    "\n",
    "    def sample(self, batch_size):\n",
    "        return random.sample(self.memory, batch_size)\n",
    "\n",
    "    def __len__(self):\n",
    "        return len(self.memory)\n",
    "\n",
    "\n",
    "replay_buffer = ReplayMemory(capacity=10000000)\n",
    "\n",
    "\n"
   ]
  },
  {
   "cell_type": "code",
   "execution_count": 2,
   "metadata": {},
   "outputs": [
    {
     "name": "stdout",
     "output_type": "stream",
     "text": [
      "[INFO] [1683219744.187409, 0.888000]:  Goal Position : 0.6, 0.0\n"
     ]
    }
   ],
   "source": [
    "state = env.reset()"
   ]
  },
  {
   "cell_type": "code",
   "execution_count": 3,
   "metadata": {},
   "outputs": [
    {
     "data": {
      "text/plain": [
       "array([ 1.93204606,  1.97845924,  2.2540195 ,  0.75904226,  2.09119844,\n",
       "        1.88717592,  1.84170556,  1.9729532 ,  0.68617195,  0.69372785,\n",
       "        1.96063888,  1.79650843,  1.80898154,  1.95049703,  0.71345842,\n",
       "        0.66947562,  1.95643473,  1.84448111,  1.88678002,  2.07985377,\n",
       "        0.77345312,  2.2361784 ,  1.98881996,  1.91454971, -0.14      ,\n",
       "        0.6       ,  0.67      , 15.        ])"
      ]
     },
     "execution_count": 3,
     "metadata": {},
     "output_type": "execute_result"
    }
   ],
   "source": [
    "state"
   ]
  },
  {
   "cell_type": "code",
   "execution_count": 11,
   "metadata": {},
   "outputs": [
    {
     "data": {
      "text/plain": [
       "(array([ 0.14362858,  0.15363628,  1.47687078,  1.55032611,  1.75200498,\n",
       "         2.19735432,  2.55710125,  0.91049135,  2.28158665,  2.43115473,\n",
       "         2.79512763,  2.83655453,  2.41020346,  2.21352601,  0.83420712,\n",
       "         2.4249661 ,  2.20188332,  1.71889484,  1.48298919,  1.41960657,\n",
       "         1.44786334,  0.1805744 ,  0.13928185,  0.14292543,  1.74      ,\n",
       "         0.5       ,  0.14      , 22.        ]),\n",
       " -3.1894174109424145,\n",
       " False)"
      ]
     },
     "execution_count": 11,
     "metadata": {},
     "output_type": "execute_result"
    }
   ],
   "source": [
    "env.step(3)"
   ]
  },
  {
   "cell_type": "code",
   "execution_count": 3,
   "metadata": {},
   "outputs": [
    {
     "name": "stdout",
     "output_type": "stream",
     "text": [
      "[INFO] [1683219760.346820, 17.009000]: Goal!!\n",
      "[INFO] [1683219761.251703, 17.892000]:  Goal Position : -1.7, -0.7\n",
      "[INFO] [1683219774.211078, 30.814000]: Collision!!\n",
      "[INFO] [1683219780.230980, 6.003000]: Collision!!\n",
      "[INFO] [1683219787.461231, 7.207000]: Collision!!\n",
      "[INFO] [1683219801.907819, 14.404000]: Collision!!\n"
     ]
    }
   ],
   "source": [
    "for i in range(250):\n",
    "    action = random.randrange(0,5)\n",
    "    next_state, reward, done = env.step(action)\n",
    "    replay_buffer.push(state, action, next_state, reward, done)\n",
    "    state = next_state\n",
    "    if done:\n",
    "        state = env.reset()"
   ]
  },
  {
   "cell_type": "code",
   "execution_count": 4,
   "metadata": {},
   "outputs": [
    {
     "data": {
      "text/plain": [
       "Transition(state=array([ 1.08942938,  1.03665102,  1.07575405,  1.18499732,  1.44869292,\n",
       "        2.10414124,  1.98681605,  1.91683137,  0.55236691,  2.28772879,\n",
       "        2.90325069,  1.39883065,  2.71119523,  2.68805909,  1.36656415,\n",
       "        2.96159625,  0.52825278,  0.42218718,  1.79146302,  1.80656457,\n",
       "        1.95087767,  1.58198738,  1.25725651,  1.0895102 , -1.63      ,\n",
       "        1.08      ,  0.42      , 17.        ]), action=1, next_state=array([ 1.09154296,  1.02590036,  1.06856036,  1.16399765,  1.41220772,\n",
       "        1.99238729,  1.99172187,  1.92121565,  0.57628804,  2.25355053,\n",
       "        2.83385134,  1.43259847,  2.72524905,  2.69049215,  1.36524701,\n",
       "        3.05577421,  2.27591896,  0.42024422,  1.80838382,  1.79396939,\n",
       "        1.93985689,  1.62836194,  1.27964938,  1.08829546,  2.96      ,\n",
       "        2.4       ,  0.42      , 17.        ]), reward=200, done=False)"
      ]
     },
     "execution_count": 4,
     "metadata": {},
     "output_type": "execute_result"
    }
   ],
   "source": [
    "replay_buffer.memory[-1]"
   ]
  },
  {
   "cell_type": "code",
   "execution_count": 5,
   "metadata": {},
   "outputs": [],
   "source": [
    "import pickle\n",
    "# save the replay buffer to disk\n",
    "\n",
    "with open('replay_buffer.pkl', 'wb') as f:\n",
    "    pickle.dump(replay_buffer, f)"
   ]
  },
  {
   "cell_type": "code",
   "execution_count": 5,
   "metadata": {},
   "outputs": [
    {
     "ename": "IndexError",
     "evalue": "deque index out of range",
     "output_type": "error",
     "traceback": [
      "\u001b[0;31m---------------------------------------------------------------------------\u001b[0m",
      "\u001b[0;31mIndexError\u001b[0m                                Traceback (most recent call last)",
      "Cell \u001b[0;32mIn[5], line 1\u001b[0m\n\u001b[0;32m----> 1\u001b[0m replay_buffer\u001b[39m.\u001b[39;49mmemory[\u001b[39m-\u001b[39;49m\u001b[39m1\u001b[39;49m]\n",
      "\u001b[0;31mIndexError\u001b[0m: deque index out of range"
     ]
    }
   ],
   "source": [
    "replay_buffer.memory[-1]"
   ]
  },
  {
   "cell_type": "code",
   "execution_count": 6,
   "metadata": {},
   "outputs": [],
   "source": [
    "# use the replay buffer from disk\n",
    "\n",
    "with open('replay_buffer.pkl', 'rb') as f:\n",
    "    replay_buffer = pickle.load(f)"
   ]
  },
  {
   "cell_type": "code",
   "execution_count": 7,
   "metadata": {},
   "outputs": [
    {
     "data": {
      "text/plain": [
       "250"
      ]
     },
     "execution_count": 7,
     "metadata": {},
     "output_type": "execute_result"
    }
   ],
   "source": [
    "len(replay_buffer)"
   ]
  },
  {
   "cell_type": "code",
   "execution_count": 18,
   "metadata": {},
   "outputs": [],
   "source": [
    "sample = replay_buffer.sample(12)"
   ]
  },
  {
   "cell_type": "code",
   "execution_count": 19,
   "metadata": {},
   "outputs": [],
   "source": [
    "sample = Transition(*zip(*sample))"
   ]
  },
  {
   "cell_type": "code",
   "execution_count": 20,
   "metadata": {},
   "outputs": [],
   "source": [
    "batch = sample"
   ]
  },
  {
   "cell_type": "code",
   "execution_count": 21,
   "metadata": {},
   "outputs": [],
   "source": [
    "state_batch = torch.tensor(np.array(batch.state), dtype=torch.float32)\n",
    "action_batch = torch.tensor(np.array(batch.action), dtype=torch.int64)\n",
    "reward_batch = torch.tensor(np.array(batch.reward), dtype=torch.float32)\n",
    "next_batch = torch.tensor(np.array(batch.next_state), dtype=torch.float32)\n",
    "done_batch = torch.tensor(batch.done, dtype =torch.bool)"
   ]
  },
  {
   "cell_type": "code",
   "execution_count": 16,
   "metadata": {},
   "outputs": [
    {
     "data": {
      "text/plain": [
       "torch.Size([12, 28])"
      ]
     },
     "execution_count": 16,
     "metadata": {},
     "output_type": "execute_result"
    }
   ],
   "source": [
    "state_batch.shape"
   ]
  },
  {
   "cell_type": "code",
   "execution_count": 18,
   "metadata": {},
   "outputs": [
    {
     "data": {
      "text/plain": [
       "tensor([3, 4, 2, 1, 0, 4, 2, 0, 1, 0, 0, 4])"
      ]
     },
     "execution_count": 18,
     "metadata": {},
     "output_type": "execute_result"
    }
   ],
   "source": [
    "action_batch"
   ]
  },
  {
   "cell_type": "code",
   "execution_count": 19,
   "metadata": {},
   "outputs": [
    {
     "data": {
      "text/plain": [
       "torch.Size([12, 28])"
      ]
     },
     "execution_count": 19,
     "metadata": {},
     "output_type": "execute_result"
    }
   ],
   "source": [
    "next_batch.shape"
   ]
  },
  {
   "cell_type": "code",
   "execution_count": 39,
   "metadata": {},
   "outputs": [],
   "source": [
    "done_batch = torch.tensor([False, False, False, True, False, False, False, False, False, False,\n",
    "        True, False])"
   ]
  },
  {
   "cell_type": "code",
   "execution_count": 22,
   "metadata": {},
   "outputs": [],
   "source": [
    "from rl_model import DQNModel"
   ]
  },
  {
   "cell_type": "code",
   "execution_count": 23,
   "metadata": {},
   "outputs": [],
   "source": [
    "policy_net = DQNModel(28, 5)"
   ]
  },
  {
   "cell_type": "code",
   "execution_count": 27,
   "metadata": {},
   "outputs": [
    {
     "data": {
      "text/plain": [
       "torch.float64"
      ]
     },
     "execution_count": 27,
     "metadata": {},
     "output_type": "execute_result"
    }
   ],
   "source": [
    "state_batch.dtype"
   ]
  },
  {
   "cell_type": "code",
   "execution_count": 24,
   "metadata": {},
   "outputs": [],
   "source": [
    "o  = policy_net(state_batch).gather(1, action_batch.unsqueeze(1))"
   ]
  },
  {
   "cell_type": "code",
   "execution_count": 25,
   "metadata": {},
   "outputs": [],
   "source": [
    "t = policy_net(next_batch).max(1)[0].detach()"
   ]
  },
  {
   "cell_type": "code",
   "execution_count": 37,
   "metadata": {},
   "outputs": [
    {
     "data": {
      "text/plain": [
       "tensor([0.3050, 0.4931, 0.1238, 0.8011, 0.4153, 0.6232, 0.4131, 0.1803, 0.5251,\n",
       "        0.7435, 0.4612, 0.1322])"
      ]
     },
     "execution_count": 37,
     "metadata": {},
     "output_type": "execute_result"
    }
   ],
   "source": [
    "t"
   ]
  },
  {
   "cell_type": "code",
   "execution_count": 26,
   "metadata": {},
   "outputs": [],
   "source": [
    "t[done_batch] = 0.0"
   ]
  },
  {
   "cell_type": "code",
   "execution_count": 41,
   "metadata": {},
   "outputs": [
    {
     "data": {
      "text/plain": [
       "tensor([0.3050, 0.4931, 0.1238, 0.0000, 0.4153, 0.6232, 0.4131, 0.1803, 0.5251,\n",
       "        0.7435, 0.0000, 0.1322])"
      ]
     },
     "execution_count": 41,
     "metadata": {},
     "output_type": "execute_result"
    }
   ],
   "source": [
    "t"
   ]
  },
  {
   "cell_type": "code",
   "execution_count": 27,
   "metadata": {},
   "outputs": [],
   "source": [
    "expected_state_action_values = (t * 0.99) + reward_batch"
   ]
  },
  {
   "cell_type": "code",
   "execution_count": 43,
   "metadata": {},
   "outputs": [
    {
     "data": {
      "text/plain": [
       "tensor([-5.6240, -9.1518, -5.8075,  1.4538, -1.5731, -9.3266,  6.4609,  3.1165,\n",
       "         7.0990,  6.0695,  7.7057, -6.1558])"
      ]
     },
     "execution_count": 43,
     "metadata": {},
     "output_type": "execute_result"
    }
   ],
   "source": [
    "expected_state_action_values "
   ]
  },
  {
   "cell_type": "code",
   "execution_count": 31,
   "metadata": {},
   "outputs": [
    {
     "data": {
      "text/plain": [
       "torch.Size([12])"
      ]
     },
     "execution_count": 31,
     "metadata": {},
     "output_type": "execute_result"
    }
   ],
   "source": [
    "o.shape"
   ]
  },
  {
   "cell_type": "code",
   "execution_count": 28,
   "metadata": {},
   "outputs": [
    {
     "name": "stderr",
     "output_type": "stream",
     "text": [
      "/tmp/ipykernel_95835/2370427825.py:3: UserWarning: Using a target size (torch.Size([12])) that is different to the input size (torch.Size([12, 1])). This will likely lead to incorrect results due to broadcasting. Please ensure they have the same size.\n",
      "  loss = F.smooth_l1_loss(o, expected_state_action_values)\n"
     ]
    }
   ],
   "source": [
    "from torch.nn import functional as F\n",
    "\n",
    "loss = F.smooth_l1_loss(o, expected_state_action_values)"
   ]
  },
  {
   "cell_type": "code",
   "execution_count": 49,
   "metadata": {},
   "outputs": [],
   "source": [
    "loss.backward()"
   ]
  },
  {
   "cell_type": "code",
   "execution_count": 32,
   "metadata": {},
   "outputs": [],
   "source": [
    "loss = F.smooth_l1_loss(o, expected_state_action_values)"
   ]
  },
  {
   "cell_type": "code",
   "execution_count": null,
   "metadata": {},
   "outputs": [],
   "source": []
  }
 ],
 "metadata": {
  "kernelspec": {
   "display_name": "env",
   "language": "python",
   "name": "python3"
  },
  "language_info": {
   "codemirror_mode": {
    "name": "ipython",
    "version": 3
   },
   "file_extension": ".py",
   "mimetype": "text/x-python",
   "name": "python",
   "nbconvert_exporter": "python",
   "pygments_lexer": "ipython3",
   "version": "3.8.10"
  },
  "orig_nbformat": 4
 },
 "nbformat": 4,
 "nbformat_minor": 2
}
